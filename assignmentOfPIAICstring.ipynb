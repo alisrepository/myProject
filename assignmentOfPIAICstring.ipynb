{
 "cells": [
  {
   "cell_type": "code",
   "execution_count": 1,
   "metadata": {},
   "outputs": [],
   "source": [
    "#ALI HAIDER; REG NO. PIAIC69857\n",
    "# RETURNS TRUE IF ALL ARE DIGITS (NUMBERS) AND RETURNS FALSE IF EVEN SINGLE ENTRY IN STRING IS NOT DIGIT\n",
    "def isDigit(num):\n",
    "    isNum = False\n",
    "    i = 0\n",
    "    while(i < len(num)):\n",
    "        if(ord(num[i]) > 47 and ord(num[i])<58):\n",
    "            isNum = True\n",
    "        else:\n",
    "            return False\n",
    "        i += 1\n",
    "    return isNum\n",
    "        \n"
   ]
  },
  {
   "cell_type": "code",
   "execution_count": 4,
   "metadata": {},
   "outputs": [
    {
     "name": "stdout",
     "output_type": "stream",
     "text": [
      "ENTER INPUT TO CHECK IF ITS DIGIT: asasa\n",
      "ENTER VALUE IS DIGIT False\n"
     ]
    }
   ],
   "source": [
    "print(\"ENTER VALUE IS DIGIT \" + str(isDigit(input(\"ENTER INPUT TO CHECK IF ITS DIGIT: \"))))"
   ]
  },
  {
   "cell_type": "code",
   "execution_count": null,
   "metadata": {},
   "outputs": [],
   "source": []
  }
 ],
 "metadata": {
  "kernelspec": {
   "display_name": "Python 3",
   "language": "python",
   "name": "python3"
  },
  "language_info": {
   "codemirror_mode": {
    "name": "ipython",
    "version": 3
   },
   "file_extension": ".py",
   "mimetype": "text/x-python",
   "name": "python",
   "nbconvert_exporter": "python",
   "pygments_lexer": "ipython3",
   "version": "3.7.3"
  }
 },
 "nbformat": 4,
 "nbformat_minor": 2
}
